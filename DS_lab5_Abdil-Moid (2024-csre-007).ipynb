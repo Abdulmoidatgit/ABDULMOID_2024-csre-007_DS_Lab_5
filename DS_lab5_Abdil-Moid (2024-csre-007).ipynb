{
 "cells": [
  {
   "cell_type": "markdown",
   "id": "505d8acd-8d3c-42c3-8827-b772bd173458",
   "metadata": {},
   "source": [
    "**Task: FIFO Warm‑Up**"
   ]
  },
  {
   "cell_type": "code",
   "execution_count": 2,
   "id": "5e674a3c-1e83-4367-9416-46dd6d2d0a60",
   "metadata": {},
   "outputs": [
    {
     "name": "stdout",
     "output_type": "stream",
     "text": [
      "Start: []\n",
      "After enqueue A: ['A']\n",
      "After enqueue B: ['A', 'B']\n",
      "After enqueue C: ['A', 'B', 'C']\n",
      "After dequeue -> A | Queue: ['B', 'C']\n",
      "After dequeue -> B | Queue: ['C']\n",
      "After dequeue -> C | Queue: []\n",
      "Removed order: A B C\n"
     ]
    }
   ],
   "source": [
    "# Show results after each step for the user's FIFO warm-up\n",
    "q = []  # start empty\n",
    "print(\"Start:\", q)\n",
    "\n",
    "# enqueue A\n",
    "q.append('A')\n",
    "print(\"After enqueue A:\", q)\n",
    "\n",
    "# enqueue B\n",
    "q.append('B')\n",
    "print(\"After enqueue B:\", q)\n",
    "\n",
    "# enqueue C\n",
    "q.append('C')\n",
    "print(\"After enqueue C:\", q)\n",
    "\n",
    "# dequeue operations\n",
    "out1 = q.pop(0)  # dequeue -> 'A'\n",
    "print(\"After dequeue ->\", out1, \"| Queue:\", q)\n",
    "\n",
    "out2 = q.pop(0)  # dequeue -> 'B'\n",
    "print(\"After dequeue ->\", out2, \"| Queue:\", q)\n",
    "\n",
    "out3 = q.pop(0)  # dequeue -> 'C'\n",
    "print(\"After dequeue ->\", out3, \"| Queue:\", q)\n",
    "\n",
    "print('Removed order:', out1, out2, out3)\n"
   ]
  },
  {
   "cell_type": "markdown",
   "id": "9aab775c-575f-4343-98bd-ea5e72b44621",
   "metadata": {},
   "source": [
    "**Task: Teaching Queue**"
   ]
  },
  {
   "cell_type": "code",
   "execution_count": 4,
   "id": "832f07fb-60a8-4403-a206-bfbcfab94ae9",
   "metadata": {},
   "outputs": [
    {
     "name": "stdout",
     "output_type": "stream",
     "text": [
      "Init -> []\n",
      "enqueue(10) -> [10]\n",
      "enqueue(20) -> [10, 20]\n",
      "dequeue() -> 10 | [20]\n",
      "front() -> 20 | [20]\n",
      "is_empty -> False\n"
     ]
    }
   ],
   "source": [
    "# Teaching Queue (list-backed) with step-by-step outputs\n",
    "class Queue:\n",
    "    def __init__(self):\n",
    "        self.items = []                 # internal list to hold elements\n",
    "        print(\"Init ->\", self.items)\n",
    "\n",
    "    def is_empty(self):\n",
    "        return len(self.items) == 0     # empty if length == 0\n",
    "\n",
    "    def enqueue(self, x):\n",
    "        self.items.append(x)            # append at end (rear)\n",
    "        print(f\"enqueue({x}) ->\", self.items)\n",
    "\n",
    "    def dequeue(self):\n",
    "        if self.is_empty():\n",
    "            print(\"dequeue() -> Underflow (None) |\", self.items)\n",
    "            return None                 # signal underflow\n",
    "        val = self.items.pop(0)         # remove & return element at index 0 (front)\n",
    "        print(f\"dequeue() -> {val} |\", self.items)\n",
    "        return val\n",
    "\n",
    "    def front(self):\n",
    "        if self.is_empty():\n",
    "            print(\"front() -> None |\", self.items)\n",
    "            return None\n",
    "        print(\"front() ->\", self.items[0], \"|\", self.items)\n",
    "        return self.items[0]            # peek front without removing\n",
    "\n",
    "\n",
    "# quick test with step-by-step tracing\n",
    "q = Queue()\n",
    "q.enqueue(10)\n",
    "q.enqueue(20)\n",
    "_ = q.dequeue()     # expect 10\n",
    "_ = q.front()       # expect 20\n",
    "print('is_empty ->', q.is_empty())  # expect False\n"
   ]
  },
  {
   "cell_type": "markdown",
   "id": "c12b376c-4817-41ab-a0ca-3d75b7ce181d",
   "metadata": {},
   "source": [
    "**Task: Fixed-Size Array Queue**"
   ]
  },
  {
   "cell_type": "code",
   "execution_count": 12,
   "id": "a1f9c378-3026-4b0c-9464-e3af66655653",
   "metadata": {},
   "outputs": [
    {
     "name": "stdout",
     "output_type": "stream",
     "text": [
      "dequeue -> 10\n",
      "dequeue -> 20\n",
      "front   -> 30\n",
      "state   -> count = 1 front = 2 rear = 2\n",
      "active  -> [30]\n"
     ]
    }
   ],
   "source": [
    "# ---- Fixed-size Array Queue ---\n",
    "class ArrayQueue:\n",
    "    def __init__(self, size):\n",
    "        self.size = size                 # total capacity\n",
    "        self.a = [None] * size           # fixed-size storage\n",
    "        self.front = 0                   # index of current front\n",
    "        self.rear = -1                   # index of last filled position\n",
    "        self.count = 0                   # number of current elements\n",
    "\n",
    "    def is_empty(self):\n",
    "        return self.count == 0\n",
    "\n",
    "    def is_full(self):\n",
    "        return self.count == self.size\n",
    "\n",
    "    def enqueue(self, x):\n",
    "        if self.is_full():\n",
    "            print(\"Overflow\")\n",
    "            return False\n",
    "        self.rear += 1                   # move right\n",
    "        self.a[self.rear] = x            # place new element\n",
    "        self.count += 1\n",
    "        return True\n",
    "\n",
    "    def dequeue(self):\n",
    "        if self.is_empty():\n",
    "            print(\"Underflow\")\n",
    "            return None\n",
    "        val = self.a[self.front]         # read front\n",
    "        self.front += 1                  # move right\n",
    "        self.count -= 1\n",
    "        return val\n",
    "\n",
    "    def front_val(self):\n",
    "        if self.is_empty():\n",
    "            return None\n",
    "        return self.a[self.front]\n",
    "\n",
    "\n",
    "# demo: show waste behavior\n",
    "aq = ArrayQueue(5)\n",
    "aq.enqueue(10)\n",
    "aq.enqueue(20)\n",
    "aq.enqueue(30)\n",
    "print('dequeue ->', aq.dequeue())        # remove 10\n",
    "print('dequeue ->', aq.dequeue())        # remove 20\n",
    "print('front   ->', aq.front_val())      # expect 30\n",
    "print('state   ->', 'count =', aq.count, 'front =', aq.front, 'rear =', aq.rear)\n",
    "print('active  ->', aq.a[aq.front:aq.rear + 1])  # logical active window\n"
   ]
  },
  {
   "cell_type": "markdown",
   "id": "d5e1872d-3b9f-4420-b1e2-0dba1dced54e",
   "metadata": {},
   "source": [
    "**Task: Circular Queue**"
   ]
  },
  {
   "cell_type": "code",
   "execution_count": 11,
   "id": "75a1d6e1-e34f-4e6d-9f47-51b37d1087d3",
   "metadata": {},
   "outputs": [
    {
     "name": "stdout",
     "output_type": "stream",
     "text": [
      "start   -> [10, 20, 30, 40]\n",
      "dequeue -> 10\n",
      "dequeue -> 20\n",
      "mid     -> [30, 40]\n",
      "after   -> [30, 40, 50, 60]\n",
      "front   -> 30\n",
      "state   -> front = 2 rear = 0 count = 4\n"
     ]
    }
   ],
   "source": [
    "# ---- Circular Queue with modulo wrap-around ---\n",
    "class CircularQueue:\n",
    "    def __init__(self, size):\n",
    "        self.size = size\n",
    "        self.a = [None] * size\n",
    "        self.front = 0\n",
    "        self.rear = -1\n",
    "        self.count = 0\n",
    "\n",
    "    def is_empty(self):\n",
    "        return self.count == 0\n",
    "\n",
    "    def is_full(self):\n",
    "        return self.count == self.size\n",
    "\n",
    "    def enqueue(self, x):\n",
    "        if self.is_full():\n",
    "            print(\"Overflow\")\n",
    "            return False\n",
    "        self.rear = (self.rear + 1) % self.size\n",
    "        self.a[self.rear] = x\n",
    "        self.count += 1\n",
    "        return True\n",
    "\n",
    "    def dequeue(self):\n",
    "        if self.is_empty():\n",
    "            print(\"Underflow\")\n",
    "            return None\n",
    "        val = self.a[self.front]\n",
    "        self.front = (self.front + 1) % self.size\n",
    "        self.count -= 1\n",
    "        return val\n",
    "\n",
    "    def front_val(self):\n",
    "        if self.is_empty():\n",
    "            return None\n",
    "        return self.a[self.front]\n",
    "\n",
    "    def to_list(self):\n",
    "        # Return logical order of elements from front, length = count\n",
    "        res = []\n",
    "        idx = self.front\n",
    "        for _ in range(self.count):\n",
    "            res.append(self.a[idx])\n",
    "            idx = (idx + 1) % self.size\n",
    "        return res\n",
    "\n",
    "\n",
    "# ---- Demo: wrap-around behavior ----\n",
    "cq = CircularQueue(5)\n",
    "\n",
    "for x in [10, 20, 30, 40]:\n",
    "    cq.enqueue(x)\n",
    "\n",
    "print('start   ->', cq.to_list())         # [10, 20, 30, 40]\n",
    "print('dequeue ->', cq.dequeue())         # remove 10\n",
    "print('dequeue ->', cq.dequeue())         # remove 20\n",
    "print('mid     ->', cq.to_list())         # [30, 40]\n",
    "\n",
    "# should wrap when needed\n",
    "cq.enqueue(50)\n",
    "cq.enqueue(60)\n",
    "\n",
    "print('after   ->', cq.to_list())         # [30, 40, 50, 60]\n",
    "print('front   ->', cq.front_val())\n",
    "print('state   ->', 'front =', cq.front, 'rear =', cq.rear, 'count =', cq.count)\n"
   ]
  },
  {
   "cell_type": "markdown",
   "id": "04f3c16b-710f-4432-aa38-9102b6aa49b9",
   "metadata": {},
   "source": [
    "**Task: Mini‑Project: Printer Jobs**"
   ]
  },
  {
   "cell_type": "code",
   "execution_count": 17,
   "id": "f91d2cd9-8fa0-43aa-9406-e63520c66632",
   "metadata": {},
   "outputs": [
    {
     "name": "stdout",
     "output_type": "stream",
     "text": [
      "Incoming jobs: ['J1', 'J2', 'J3', 'J4', 'J5']\n",
      "Overflow\n",
      "Queue full, job dropped: J5\n",
      "Serviced order: ['J1', 'J2', 'J3', 'J4']\n"
     ]
    }
   ],
   "source": [
    "# ---- Printer Job Simulation ---\n",
    "def run_printer_sim(jobs, capacity=8):\n",
    "    q = CircularQueue(capacity)\n",
    "    print(\"Incoming jobs:\", jobs)\n",
    "    for j in jobs:\n",
    "        if not q.enqueue(j):\n",
    "            print(\"Queue full, job dropped:\", j)   # simple handling\n",
    "    serviced = []\n",
    "    while not q.is_empty():\n",
    "        serviced.append(q.dequeue())\n",
    "    print(\"Serviced order:\", serviced)\n",
    "    return serviced\n",
    "\n",
    "# demo\n",
    "jobs = [\"J1\", \"J2\", \"J3\", \"J4\", \"J5\"]\n",
    "serviced = run_printer_sim(jobs, capacity=4)\n"
   ]
  },
  {
   "cell_type": "code",
   "execution_count": null,
   "id": "6b485e77-6054-40df-bb1c-f46043a2e72a",
   "metadata": {},
   "outputs": [],
   "source": []
  }
 ],
 "metadata": {
  "kernelspec": {
   "display_name": "Python 3 (ipykernel)",
   "language": "python",
   "name": "python3"
  },
  "language_info": {
   "codemirror_mode": {
    "name": "ipython",
    "version": 3
   },
   "file_extension": ".py",
   "mimetype": "text/x-python",
   "name": "python",
   "nbconvert_exporter": "python",
   "pygments_lexer": "ipython3",
   "version": "3.13.5"
  }
 },
 "nbformat": 4,
 "nbformat_minor": 5
}
